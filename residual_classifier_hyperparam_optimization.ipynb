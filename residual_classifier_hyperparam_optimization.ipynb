{
  "nbformat": 4,
  "nbformat_minor": 0,
  "metadata": {
    "@webio": {
      "lastCommId": null,
      "lastKernelId": null
    },
    "kernelspec": {
      "name": "python3",
      "display_name": "Python 3"
    },
    "language_info": {
      "codemirror_mode": {
        "name": "ipython",
        "version": 3
      },
      "file_extension": ".py",
      "mimetype": "text/x-python",
      "name": "python",
      "nbconvert_exporter": "python",
      "pygments_lexer": "ipython3",
      "version": "3.7.4"
    },
    "colab": {
      "name": "Lab_1_2_Classifier final.ipynb",
      "provenance": [],
      "collapsed_sections": []
    },
    "accelerator": "GPU"
  },
  "cells": [
    {
      "cell_type": "code",
      "metadata": {
        "id": "YqRRlYiORE1m",
        "colab_type": "code",
        "colab": {}
      },
      "source": [
        "import numpy as np\n",
        "import torchvision\n",
        "import torch\n",
        "import torch.nn as nn\n",
        "import torch.nn.functional as F\n",
        "import torch.optim as optim\n",
        "from torch.utils.data import Dataset, DataLoader\n",
        "import numpy as np\n",
        "import matplotlib.pyplot as plt\n",
        "from torchvision import transforms, utils, datasets\n",
        "import pandas as pd\n",
        "import seaborn as sn\n",
        "import pickle as pkl\n",
        "import os\n",
        "from sklearn.metrics import confusion_matrix as cm\n",
        "from sklearn.metrics import plot_confusion_matrix as pcm\n",
        "import math"
      ],
      "execution_count": 0,
      "outputs": []
    },
    {
      "cell_type": "code",
      "metadata": {
        "id": "3J0gLbcLXZ7l",
        "colab_type": "code",
        "outputId": "08633f01-1894-4ac7-bb70-f035d3a652ad",
        "colab": {
          "base_uri": "https://localhost:8080/",
          "height": 122
        }
      },
      "source": [
        "from google.colab import drive\n",
        "drive.mount('/content/drive')\n",
        "folder = '/content/drive/My Drive/601R/lab1/'"
      ],
      "execution_count": 3,
      "outputs": [
        {
          "output_type": "stream",
          "text": [
            "Go to this URL in a browser: https://accounts.google.com/o/oauth2/auth?client_id=947318989803-6bn6qk8qdgf4n4g3pfee6491hc0brc4i.apps.googleusercontent.com&redirect_uri=urn%3aietf%3awg%3aoauth%3a2.0%3aoob&response_type=code&scope=email%20https%3a%2f%2fwww.googleapis.com%2fauth%2fdocs.test%20https%3a%2f%2fwww.googleapis.com%2fauth%2fdrive%20https%3a%2f%2fwww.googleapis.com%2fauth%2fdrive.photos.readonly%20https%3a%2f%2fwww.googleapis.com%2fauth%2fpeopleapi.readonly\n",
            "\n",
            "Enter your authorization code:\n",
            "··········\n",
            "Mounted at /content/drive\n"
          ],
          "name": "stdout"
        }
      ]
    },
    {
      "cell_type": "code",
      "metadata": {
        "id": "wpiu54v2RE1w",
        "colab_type": "code",
        "colab": {}
      },
      "source": [
        "transform_train = transforms.Compose([\n",
        "    transforms.RandomVerticalFlip(),\n",
        "    transforms.RandomHorizontalFlip(),\n",
        "    transforms.ToTensor(),\n",
        "    transforms.Normalize((0.5, 0.5, 0.5), (0.5, 0.5, 0.5)),\n",
        "])"
      ],
      "execution_count": 0,
      "outputs": []
    },
    {
      "cell_type": "code",
      "metadata": {
        "id": "pZ8bGbeIRE2H",
        "colab_type": "code",
        "colab": {}
      },
      "source": [
        "class TinyImageDataset(Dataset):\n",
        "    \"\"\"\n",
        "    Load the Image Dataset and labels\n",
        "    \"\"\"\n",
        "    \n",
        "    def __init__(self, kind=\"train\"):\n",
        "        self.kind = kind\n",
        "        root = \"./tiny-imagenet-200/\"\n",
        "        folder = root + kind\n",
        "        trans = transforms.Compose([transforms.ToTensor(), transforms.Normalize((0.5, 0.5, 0.5), (0.5, 0.5, 0.5))])\n",
        "        self.dataset_folder = torchvision.datasets.ImageFolder(root,transform = trans)\n",
        "        if kind == \"val\":\n",
        "            val = pd.read_csv(folder+\"/val_annotations.txt\", sep=\"\\t\", header=None, names=[\"img\",\"n\",\"x\",\"y\",\"z\",\"w\"])\n",
        "            ids = pd.read_csv(root+\"wnids.txt\", sep=\"\\t\", header=None, names=[\"n\"]).reset_index().sort_values(by=\"n\")\n",
        "            self.labels = dict(val.merge(ids, how=\"left\",on=\"n\")[\"index\"])\n",
        "        \n",
        "    def __getitem__(self,index):\n",
        "        img = self.dataset_folder[index]\n",
        "        if self.kind == \"Val\":\n",
        "            label = self.labels[index]\n",
        "        else:\n",
        "            label = img[1]\n",
        "        return img[0], label\n",
        "\n",
        "    def __len__(self):\n",
        "        return len(self.dataset_folder)"
      ],
      "execution_count": 0,
      "outputs": []
    },
    {
      "cell_type": "code",
      "metadata": {
        "id": "hBwcHTiWRE2K",
        "colab_type": "code",
        "colab": {}
      },
      "source": [
        "class BasicBlock(nn.Module):\n",
        "    \"\"\"\n",
        "    Basic Block with 2 layers in it\n",
        "    \"\"\"\n",
        "    expansion = 1\n",
        "    \n",
        "    def __init__(self, in_c, out_c, acti, b_n, stride=1, downsample=None):\n",
        "        super(BasicBlock, self).__init__()\n",
        "        self.acti = acti\n",
        "        self.downsample = downsample\n",
        "        \n",
        "        self.conv1 = nn.Conv2d(in_c, out_c, kernel_size=3, stride=stride, padding=1, bias=False)\n",
        "        self.conv2 = nn.Conv2d(out_c, out_c, kernel_size=3, stride=1, padding=1, bias=False)\n",
        "        \n",
        "        if b_n:\n",
        "            bn1 = nn.BatchNorm2d(in_c)\n",
        "            bn2 = nn.BatchNorm2d(out_c)\n",
        "            self.conv1 = nn.Sequential(bn1, self.conv1)\n",
        "            self.conv2 = nn.Sequential(bn2, self.conv2)\n",
        "        \n",
        "        # TODO: need code for dim reduction?\n",
        "        \n",
        "    def forward(self, x):\n",
        "        if self.downsample is not None:\n",
        "            residual = self.downsample(x)\n",
        "        else:\n",
        "            residual = x\n",
        "        \n",
        "        out = self.conv1(x)\n",
        "        out = self.acti(out)\n",
        "        \n",
        "        out = self.conv2(out)\n",
        "        out += residual\n",
        "        out = self.acti(out)\n",
        "        \n",
        "        return out\n",
        "        "
      ],
      "execution_count": 0,
      "outputs": []
    },
    {
      "cell_type": "code",
      "metadata": {
        "id": "eI_k1N0RRE2S",
        "colab_type": "code",
        "colab": {}
      },
      "source": [
        "class RNN(nn.Module):\n",
        "    \"\"\"\n",
        "    Full ResNet Model\n",
        "    \"\"\"\n",
        "    def __init__(self, acti, b_n, weight_init, drop_out, layers=[2,3,3,1], in_c=3):\n",
        "        super(RNN, self).__init__()\n",
        "        \n",
        "        self.drop_out = drop_out\n",
        "        self.acti = acti\n",
        "        self.b_n = b_n\n",
        "        self.inplanes = 64\n",
        "        num_classes = 10\n",
        "        \n",
        "        # First layer\n",
        "        self.conv1 = nn.Conv2d(in_c, 64, kernel_size=7, stride=2, padding=3, bias=False)\n",
        "        if b_n:\n",
        "            self.conv1 = nn.Sequential(nn.BatchNorm2d(in_c), self.conv1)\n",
        "            \n",
        "        self.maxpool = nn.MaxPool2d(kernel_size=3, stride=2, padding=1)\n",
        "        \n",
        "        # Middle layers\n",
        "        self.layer1 = self._make_layer(BasicBlock, 64, layers[0])\n",
        "        self.layer2 = self._make_layer(BasicBlock, 128, layers[1], stride=2)\n",
        "        self.layer3 = self._make_layer(BasicBlock, 256, layers[2], stride=2)\n",
        "        self.layer4 = self._make_layer(BasicBlock, 512, layers[3], stride=2)\n",
        "        \n",
        "        # last layer\n",
        "        self.dropout = nn.Dropout2d(p=0.5,inplace=True)\n",
        "            \n",
        "        # Linear Layer\n",
        "        self.linear = nn.Linear(512, num_classes) \n",
        "        \n",
        "        # Weight Initialization\n",
        "        def init_weights(m):\n",
        "            if type(m) == nn.Conv2d:\n",
        "                #Xe Initialization\n",
        "                if(weight_init == 1):\n",
        "                    nn.init.xavier_uniform_(m.weight)\n",
        "                else: #Orthogonal Optimization\n",
        "                    nn.init.orthogonal_(m.weight)\n",
        "\n",
        "        self.apply(init_weights)\n",
        "            \n",
        "        \n",
        "    def _make_layer(self, block, planes, blocks, stride=1):\n",
        "        downsample = None\n",
        "        if stride != 1 or self.inplanes != planes * block.expansion:\n",
        "            downsample = nn.Conv2d(self.inplanes, planes * block.expansion,\n",
        "                                    kernel_size=1, stride=stride, bias=False)\n",
        "            if self.b_n:\n",
        "                downsample = nn.Sequential(\n",
        "                    downsample,\n",
        "                    nn.BatchNorm2d(planes * block.expansion),\n",
        "                )\n",
        "            \n",
        "        layers = []\n",
        "        layers.append(block(self.inplanes, planes, self.acti, self.b_n, stride, downsample))\n",
        "        self.inplanes = planes * block.expansion\n",
        "        for i in range(1, blocks):\n",
        "            layers.append(block(self.inplanes, planes, self.acti, self.b_n))\n",
        "\n",
        "        return nn.Sequential(*layers)\n",
        "        \n",
        "    def forward(self, x):\n",
        "        x = self.conv1(x)\n",
        "        x = self.acti(x)\n",
        "        x = self.maxpool(x)\n",
        "\n",
        "        x = self.layer1(x)\n",
        "        x = self.layer2(x)\n",
        "        x = self.layer3(x)\n",
        "        x = self.layer4(x)\n",
        "\n",
        "        if self.drop_out:\n",
        "            x = self.dropout(x)\n",
        "        \n",
        "        x = x.view(x.size(0), -1)\n",
        "        x = self.linear(x)\n",
        "\n",
        "        return x\n",
        "        "
      ],
      "execution_count": 0,
      "outputs": []
    },
    {
      "cell_type": "code",
      "metadata": {
        "id": "QiwgXth_RE2s",
        "colab_type": "code",
        "colab": {}
      },
      "source": [
        "def train_rnn(filename, dataset, \n",
        "              epochs, batch_size, \n",
        "              acti, batch_norm, \n",
        "              lr, lr_scheduler, \n",
        "              weight_init, drop_out,\n",
        "              loss_func):\n",
        "    \n",
        "    model = RNN(acti, batch_norm, weight_init, drop_out)\n",
        "\n",
        "    model = model.cuda()\n",
        "    \n",
        "    optimizer = optim.Adam(model.parameters(), lr=lr)\n",
        "    \n",
        "    loss_func = loss_func.cuda()\n",
        "        \n",
        "    loader = DataLoader(dataset, batch_size=batch_size, pin_memory=True, shuffle=True)\n",
        "\n",
        "    if lr_scheduler:\n",
        "        step_size = 4*len(loader)\n",
        "        clr = cyclical_lr(step_size)\n",
        "        scheduler = torch.optim.lr_scheduler.LambdaLR(optimizer, [clr])\n",
        "    \n",
        "    total_losses = []\n",
        "    e_losses = []\n",
        "    \n",
        "    for e in range(epochs):\n",
        "    \n",
        "        losses = []\n",
        "        \n",
        "        for i, (img, label) in enumerate(loader):\n",
        "\n",
        "            optimizer.zero_grad()\n",
        "            \n",
        "            y = model(img.cuda())\n",
        "\n",
        "            loss = loss_func(y, label.cuda())\n",
        "            loss.backward()\n",
        "            losses.append(loss.item())\n",
        "            \n",
        "            optimizer.step()\n",
        "\n",
        "            # adjust learning rate if set\n",
        "            if lr_scheduler is not None:\n",
        "                scheduler.step()\n",
        "\n",
        "            if i % 100 == 0:\n",
        "                total_losses.append(np.mean(losses))\n",
        "\n",
        "        e_losses.append(np.mean(losses))\n",
        "        print(\"--------Epoch \", e ,\"--------- Loss:\", e_losses[-1])\n",
        "\n",
        "    torch.save(model.state_dict(), folder + filename + \".pt\")\n",
        "    return model, e_losses, total_losses"
      ],
      "execution_count": 0,
      "outputs": []
    },
    {
      "cell_type": "code",
      "metadata": {
        "id": "J6r2q3oIRE22",
        "colab_type": "code",
        "colab": {}
      },
      "source": [
        "def plot_loss(filename, losses, total, batch_size):\n",
        "    \n",
        "    plt.plot(range(len(losses)), losses)\n",
        "    plt.xlabel(\"Epoch\")\n",
        "    plt.ylabel(\"Loss\")\n",
        "    plt.title(\"Loss Per Epoch\")\n",
        "    \n",
        "    plt.savefig(filename + \"_e_loss.jpg\")\n",
        "    plt.savefig(folder + filename + \"_e_loss.jpg\")\n",
        "    plt.show()\n",
        "\n",
        "    plt.plot(np.arange(len(total))*50, total)\n",
        "    plt.xlabel(\"Batch(\" + str(batch_size) +\")\")\n",
        "    plt.ylabel(\"Loss\")\n",
        "    plt.title(\"Loss Curve\")\n",
        "    \n",
        "    plt.savefig(folder + filename + \"_t_loss.jpg\")\n",
        "    plt.show()\n",
        "    \n",
        "    return"
      ],
      "execution_count": 0,
      "outputs": []
    },
    {
      "cell_type": "code",
      "metadata": {
        "id": "1AITjdnKRE25",
        "colab_type": "code",
        "colab": {}
      },
      "source": [
        "def confusion_matrix(filename, model, plot=False):\n",
        "    model.eval()\n",
        "    num_classes = 10\n",
        "    matrix = np.empty((num_classes,num_classes))\n",
        "    \n",
        "    val_data = torchvision.datasets.CIFAR10(folder,train=False,transform=transform_train)\n",
        "    \n",
        "    loader = DataLoader(val_data, batch_size=1)\n",
        "\n",
        "    guesses = []\n",
        "    labels = []\n",
        "    \n",
        "    for i, (img, label) in enumerate(loader):\n",
        "        # get model guess\n",
        "        y = model(img.cuda())\n",
        "        guesses.append(y.argmax().item())\n",
        "        labels.append(label.item())\n",
        "\n",
        "    acc = sum(np.array(guesses) == np.array(labels))/len(guesses)\n",
        "    print(\"Accuracy:\", acc)\n",
        "\n",
        "    # save accuracy\n",
        "    acc_file = folder + filename+\"_acc.txt\"\n",
        "    open(acc_file, 'w').write(str(acc))\n",
        "        \n",
        "    conf_matrix = cm(labels,guesses)\n",
        "\n",
        "    if plot:\n",
        "        plt.figure(figsize = (10,7))\n",
        "        sn.heatmap(conf_matrix, annot=True)\n",
        "        plt.title(\"Confusion Matrix for CIFAR10\")\n",
        "        plt.ylabel(\"True Class\")\n",
        "        plt.xlabel(\"Predicted Class\")\n",
        "        plt.savefig(folder + filename + \"_confusion.jpg\")\n",
        "        plt.show()\n",
        "    \n",
        "    return conf_matrix, acc"
      ],
      "execution_count": 0,
      "outputs": []
    },
    {
      "cell_type": "code",
      "metadata": {
        "id": "J6gVDaYQRE27",
        "colab_type": "code",
        "colab": {}
      },
      "source": [
        "def main(filename=\"model\", plot_l=False, plot_cm=False,\n",
        "         epochs=20, batch_size=256,\n",
        "         acti=nn.ReLU(), batch_norm=False, \n",
        "         lr=.001, lr_scheduler=None, \n",
        "         weight_init=1, drop_out=False,\n",
        "         loss_func=nn.CrossEntropyLoss()):\n",
        "    \n",
        "    model_file = folder + filename+\".pt\"\n",
        "    if os.path.exists(model_file):\n",
        "        acc_file = folder + filename+\"_acc.txt\"\n",
        "        if os.path.exists(acc_file):\n",
        "            return float(open(acc_file, 'r').readline())\n",
        "        else:\n",
        "            model = RNN(acti, batch_norm, weight_init, drop_out)\n",
        "            model.load_state_dict(torch.load(model_file))\n",
        "            model = model.cuda()\n",
        "            \n",
        "    else:\n",
        "        # train\n",
        "        dataset = torchvision.datasets.CIFAR10(folder, train=True, transform=transform_train)\n",
        "        model, e_losses, total = train_rnn(filename, dataset,\n",
        "                                    epochs, batch_size, \n",
        "                                    acti, batch_norm, \n",
        "                                    lr, lr_scheduler,\n",
        "                                    weight_init, drop_out, loss_func)\n",
        "\n",
        "        if plot_l:\n",
        "            plot_loss(filename, e_losses, total,batch_size)\n",
        "\n",
        "    # confusion matrix\n",
        "    conf_matrix, acc = confusion_matrix(filename, model, plot_cm)\n",
        "    \n",
        "    return acc"
      ],
      "execution_count": 0,
      "outputs": []
    },
    {
      "cell_type": "markdown",
      "metadata": {
        "id": "IPU1bVP81Ef5",
        "colab_type": "text"
      },
      "source": [
        "## Part (i)"
      ]
    },
    {
      "cell_type": "code",
      "metadata": {
        "id": "31fOR6I3qn-4",
        "colab_type": "code",
        "colab": {}
      },
      "source": [
        "class LabelSmoothingLoss(nn.Module):\n",
        "    \"\"\"\n",
        "    Loss for Label Smoothing\n",
        "    \"\"\"\n",
        "    def __init__(self, classes, smoothing=0.0, dim=-1):\n",
        "        super(LabelSmoothingLoss, self).__init__()\n",
        "        self.confidence = 1.0 - smoothing\n",
        "        self.smoothing = smoothing\n",
        "        self.cls = classes\n",
        "        self.dim = dim\n",
        "\n",
        "    def forward(self, pred, target):\n",
        "        pred = pred.log_softmax(dim=self.dim)\n",
        "        with torch.no_grad():\n",
        "            # true_dist = pred.data.clone()\n",
        "            true_dist = torch.zeros_like(pred)\n",
        "            true_dist.fill_(self.smoothing / (self.cls - 1))\n",
        "            true_dist.scatter_(1, target.data.unsqueeze(1), self.confidence)\n",
        "        return torch.mean(torch.sum(-true_dist * pred, dim=self.dim))\n",
        "\n",
        "def SELU(x):\n",
        "        \"\"\"\n",
        "            Scaled EUL function\n",
        "        \"\"\"\n",
        "        alpha = 1.6732632423543772848170429916717\n",
        "        scale = 1.0507009873554804934193349852946\n",
        "        return scale * nn.ELU(alpha)(x)\n",
        "\n",
        "def cyclical_lr(stepsize, min_lr=3e-4, max_lr=3e-3):\n",
        "\n",
        "    # Scaler: we can adapt this if we do not want the triangular CLR\n",
        "    scaler = lambda x: 1.\n",
        "\n",
        "    # Lambda function to calculate the LR\n",
        "    lr_lambda = lambda it: min_lr + (max_lr - min_lr) * relative(it, stepsize)\n",
        "\n",
        "    # Additional function to see where on the cycle we are\n",
        "    def relative(it, stepsize):\n",
        "        cycle = math.floor(1 + it / (2 * stepsize))\n",
        "        x = abs(it / stepsize - 2 * cycle + 1)\n",
        "        return max(0, (1 - x)) * scaler(cycle)\n",
        "\n",
        "    return lr_lambda"
      ],
      "execution_count": 0,
      "outputs": []
    },
    {
      "cell_type": "code",
      "metadata": {
        "id": "UgIu6d2uXBH6",
        "colab_type": "code",
        "colab": {}
      },
      "source": [
        "def compare_hyper_parameters(n_classes=10, plot=True):\n",
        "    \"\"\"\n",
        "\n",
        "        Looks at each of the following hyperparameter/permutation and compares each of them\n",
        "\n",
        "        Activation functions: relu (baseline), leakyrelu, selu, elu, hardshrink\n",
        "        Batchnorm: off (baseline), on (use one batchnorm per residual block)\n",
        "        Label smoothing: off (baseline), on\n",
        "        Learning rate: constant (baseline), CLR\n",
        "        Regularization: off (baseline), dropout\n",
        "        Initialization: uniform(baseline),  xavier/he, orthogonal\n",
        "    \"\"\"\n",
        "    accuracies = []\n",
        "\n",
        "    # # Baseline\n",
        "    accuracies.append(main(filename=\"model_base\"))\n",
        "\n",
        "    # Activation Functions\n",
        "    accuracies.append(main(filename=\"model_selu\", acti=SELU))\n",
        "    accuracies.append(main(filename=\"model_leaky_relu\", acti=nn.LeakyReLU()))\n",
        "    accuracies.append(main(filename=\"model_elu\", acti=nn.ELU()))\n",
        "    accuracies.append(main(filename=\"model_hardshrink\", acti=nn.Hardshrink()))\n",
        "\n",
        "    # Batchnorm and dropout\n",
        "    accuracies.append(main(filename=\"model_batch_norm\", batch_norm=True))\n",
        "    accuracies.append(main(filename=\"model_drop_out\", drop_out=True))\n",
        "    \n",
        "    # learning and label smoothing\n",
        "    accuracies.append(main(filename=\"model_clr_same\", lr_scheduler=True))\n",
        "    accuracies.append(main(filename=\"model_label_smoothing\", loss_func=LabelSmoothingLoss(n_classes)))\n",
        "\n",
        "    # weight initialization\n",
        "    accuracies.append(main(filename=\"model_orthogonal\", weight_init=2))\n",
        "\n",
        "    if plot:\n",
        "        labels = [\"Baseline\", \"SeLU\", \"LeakyReLU\", \"ELU\", \"HardShrink\", \"Batch Norm\", \n",
        "                    \"Drop Out\", \"CLR\", \"Label Smoothing\", \"Orthogonal Weight Init\"]\n",
        "        plt.barh(range(10), accuracies,tick_label=labels)\n",
        "        plt.title(\"Hyperparameter Testing With ResNet on CIFAR10\")\n",
        "        plt.savefig(folder + \"Hyperparams_Bar_Graph.jpg\")\n",
        "        plt.show()\n",
        "\n",
        "    return accuracies"
      ],
      "execution_count": 0,
      "outputs": []
    },
    {
      "cell_type": "code",
      "metadata": {
        "id": "12B_m55FkIll",
        "colab_type": "code",
        "outputId": "c03d10ef-e11d-44f3-9ef3-a2eec48d0a03",
        "colab": {
          "base_uri": "https://localhost:8080/",
          "height": 298
        }
      },
      "source": [
        "compare_hyper_parameters()"
      ],
      "execution_count": 14,
      "outputs": [
        {
          "output_type": "display_data",
          "data": {
            "image/png": "[encoded data removed]",
            "text/plain": [
              "<Figure size 432x288 with 1 Axes>"
            ]
          },
          "metadata": {
            "tags": []
          }
        },
        {
          "output_type": "execute_result",
          "data": {
            "text/plain": [
              "[0.7091, 0.7155, 0.7226, 0.729, 0.7167, 0.7553, 0.7201, 0.3597, 0.7129, 0.7208]"
            ]
          },
          "metadata": {
            "tags": []
          },
          "execution_count": 14
        }
      ]
    },
    {
      "cell_type": "markdown",
      "metadata": {
        "id": "bW99_dD_Vo9X",
        "colab_type": "text"
      },
      "source": [
        "## Part (ii)\n",
        "## Best Combination of Parameters\n",
        "\n",
        "Looking at the accuracies of the different tweaks and hyper parameters in part i, 4-5 combinations of such parameters should be feasible. \n",
        "\n",
        "In general it would be reasonable to try a combination of things with batch norm as batch norm ended up with the highest accuracy of the parameter tweaks.\n",
        "\n",
        "Strategies:\n",
        "* Combine Batch Norm and ELU activation as those were two of highest accuracy measures\n",
        "* Combine Batch Norm with Orthogonal Initialization\n",
        "* Combine Batch Norm, Orthogonal Initialization, and ELU activation\n",
        "* Combine Batch Norm, Orthogonal Initialization, ELU activation, and Label Smoothing\n",
        "\n"
      ]
    },
    {
      "cell_type": "code",
      "metadata": {
        "id": "jd_Tbhoy0_iq",
        "colab_type": "code",
        "colab": {}
      },
      "source": [
        "def combine_hyper_parameters(plot=True, n_classes=10):\n",
        "\n",
        "    accuracies = []\n",
        "\n",
        "    accuracies.append(main(filename=\"model_base\"))\n",
        "\n",
        "    accuracies.append(main(filename=\"model_batch_elu\", \n",
        "                           batch_norm=True, acti=nn.ELU()))\n",
        "\n",
        "    accuracies.append(main(filename=\"model_batch_orthog\", \n",
        "                           batch_norm=True, weight_init=2))\n",
        "\n",
        "    accuracies.append(main(filename=\"model_batch_elu_orthog\", \n",
        "                           batch_norm=True, acti=nn.ELU(), weight_init=2))\n",
        "\n",
        "    accuracies.append(main(filename=\"model_batch_elu_orthog_smooth\", \n",
        "                           batch_norm=True, acti=nn.ELU(), \n",
        "                           weight_init=2, loss_func=LabelSmoothingLoss(n_classes)))\n",
        "\n",
        "\n",
        "    if plot:\n",
        "        labels = [\"Baseline\", \"Batch Norm/ELU\", \"Batch Norm/Orthogonal Init\",\n",
        "                    \"Batch Norm/ELU/Orthogonal Init\", \"Batch Norm/ELU/Orthogonal Init/Label Smoothing\"]\n",
        "        plt.barh(range(5), accuracies,tick_label=labels)\n",
        "        plt.title(\"Hyperparameter Combining With ResNet on CIFAR10\")\n",
        "        plt.savefig(folder + \"Hyperparams_Combine_Bar_Graph.jpg\")\n",
        "        plt.show()\n",
        "\n",
        "    return accuracies\n"
      ],
      "execution_count": 0,
      "outputs": []
    },
    {
      "cell_type": "code",
      "metadata": {
        "id": "XiMbSgbPdBAc",
        "colab_type": "code",
        "outputId": "4c17490c-8aa9-40d7-d352-3995f4894010",
        "colab": {
          "base_uri": "https://localhost:8080/",
          "height": 298
        }
      },
      "source": [
        "combine_hyper_parameters()"
      ],
      "execution_count": 16,
      "outputs": [
        {
          "output_type": "display_data",
          "data": {
            "image/png": "[encoded data removed]",
            "text/plain": [
              "<Figure size 432x288 with 1 Axes>"
            ]
          },
          "metadata": {
            "tags": []
          }
        },
        {
          "output_type": "execute_result",
          "data": {
            "text/plain": [
              "[0.7091, 0.7743, 0.7587, 0.7608, 0.7538]"
            ]
          },
          "metadata": {
            "tags": []
          },
          "execution_count": 16
        }
      ]
    },
    {
      "cell_type": "markdown",
      "metadata": {
        "id": "P7SkIijJjyHL",
        "colab_type": "text"
      },
      "source": [
        "Interestingly enough the batch norm with the ELU without anything else had the highest accuracy."
      ]
    }
  ]
}